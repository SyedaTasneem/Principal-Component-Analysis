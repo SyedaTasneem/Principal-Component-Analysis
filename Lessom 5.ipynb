{
 "cells": [
  {
   "cell_type": "markdown",
   "id": "7eb4c153",
   "metadata": {},
   "source": [
    "# Principle Component Analysis - Iris data"
   ]
  },
  {
   "cell_type": "code",
   "execution_count": 1,
   "id": "e215e8c5",
   "metadata": {},
   "outputs": [],
   "source": [
    "### Importing the required libraies n datasets .....\n",
    "import sklearn\n",
    "from sklearn.datasets import load_iris"
   ]
  },
  {
   "cell_type": "code",
   "execution_count": 2,
   "id": "83c97ad8",
   "metadata": {},
   "outputs": [],
   "source": [
    "data = load_iris()"
   ]
  },
  {
   "cell_type": "code",
   "execution_count": 3,
   "id": "ef56d78c",
   "metadata": {},
   "outputs": [],
   "source": [
    "### creating x(predictor), y(target) variables.. \n",
    "x = data.data\n",
    "y = data.target"
   ]
  },
  {
   "cell_type": "code",
   "execution_count": 4,
   "id": "46339d92",
   "metadata": {},
   "outputs": [],
   "source": [
    "### Importing train_test_split model from sklearn\n",
    "from sklearn.model_selection import train_test_split\n"
   ]
  },
  {
   "cell_type": "code",
   "execution_count": 5,
   "id": "1f8b1894",
   "metadata": {},
   "outputs": [],
   "source": [
    "### Splitting the data into train and test sets\n",
    "xtrain,xtest,ytrain,ytest = train_test_split(x,y,test_size = 0.2,random_state = 1)"
   ]
  },
  {
   "cell_type": "code",
   "execution_count": 6,
   "id": "8a6e3dda",
   "metadata": {},
   "outputs": [],
   "source": [
    "#### Importing LOGISTIC REGRESSION  from SKLEARN\n",
    "from sklearn.linear_model import LogisticRegression"
   ]
  },
  {
   "cell_type": "code",
   "execution_count": 8,
   "id": "f670b989",
   "metadata": {},
   "outputs": [],
   "source": [
    "##  Creating an instance of LOGISTIC REGRESSION \n",
    "log = LogisticRegression()"
   ]
  },
  {
   "cell_type": "code",
   "execution_count": 9,
   "id": "36645402",
   "metadata": {},
   "outputs": [
    {
     "name": "stderr",
     "output_type": "stream",
     "text": [
      "C:\\Users\\imtiyaz\\anaconda3\\lib\\site-packages\\sklearn\\linear_model\\_logistic.py:763: ConvergenceWarning: lbfgs failed to converge (status=1):\n",
      "STOP: TOTAL NO. of ITERATIONS REACHED LIMIT.\n",
      "\n",
      "Increase the number of iterations (max_iter) or scale the data as shown in:\n",
      "    https://scikit-learn.org/stable/modules/preprocessing.html\n",
      "Please also refer to the documentation for alternative solver options:\n",
      "    https://scikit-learn.org/stable/modules/linear_model.html#logistic-regression\n",
      "  n_iter_i = _check_optimize_result(\n"
     ]
    },
    {
     "data": {
      "text/plain": [
       "LogisticRegression()"
      ]
     },
     "execution_count": 9,
     "metadata": {},
     "output_type": "execute_result"
    }
   ],
   "source": [
    "### fitting the data into the model\n",
    "log.fit(xtrain,ytrain)"
   ]
  },
  {
   "cell_type": "code",
   "execution_count": 10,
   "id": "a6ff7d29",
   "metadata": {},
   "outputs": [],
   "source": [
    "### Prediction:\n",
    "ypred = log.predict(xtest)"
   ]
  },
  {
   "cell_type": "code",
   "execution_count": 11,
   "id": "c645b0f7",
   "metadata": {},
   "outputs": [],
   "source": [
    "### Importing accuracy_score from Sklearn\n",
    "from sklearn.metrics import accuracy_score"
   ]
  },
  {
   "cell_type": "code",
   "execution_count": 12,
   "id": "e6825b1e",
   "metadata": {},
   "outputs": [],
   "source": [
    "Model_accuracy = accuracy_score(ypred,ytest)"
   ]
  },
  {
   "cell_type": "code",
   "execution_count": 13,
   "id": "3f4a7e43",
   "metadata": {},
   "outputs": [
    {
     "name": "stdout",
     "output_type": "stream",
     "text": [
      "0.9666666666666667\n"
     ]
    }
   ],
   "source": [
    "### model accuracy\n",
    "print(Model_accuracy)"
   ]
  },
  {
   "cell_type": "code",
   "execution_count": 14,
   "id": "44ada475",
   "metadata": {},
   "outputs": [],
   "source": [
    "### Importing PCA from sklearn\n",
    "from sklearn.decomposition import PCA"
   ]
  },
  {
   "cell_type": "code",
   "execution_count": 15,
   "id": "702c28ca",
   "metadata": {},
   "outputs": [],
   "source": [
    "## creating an instance of PCA that explains 95% variability.\n",
    "Pca = PCA(n_components = 0.95)"
   ]
  },
  {
   "cell_type": "code",
   "execution_count": 16,
   "id": "448f3224",
   "metadata": {},
   "outputs": [
    {
     "data": {
      "text/plain": [
       "PCA(n_components=0.95)"
      ]
     },
     "execution_count": 16,
     "metadata": {},
     "output_type": "execute_result"
    }
   ],
   "source": [
    "## fitting data on PCA\n",
    "Pca.fit(xtrain)"
   ]
  },
  {
   "cell_type": "code",
   "execution_count": 17,
   "id": "b3c279f3",
   "metadata": {},
   "outputs": [],
   "source": [
    "### Decomposition: \n",
    "xtrain_transformed = Pca.transform(xtrain)"
   ]
  },
  {
   "cell_type": "code",
   "execution_count": 18,
   "id": "3ec4838e",
   "metadata": {},
   "outputs": [
    {
     "name": "stdout",
     "output_type": "stream",
     "text": [
      "(120, 2)\n"
     ]
    }
   ],
   "source": [
    "print(xtrain_transformed.shape)"
   ]
  },
  {
   "cell_type": "code",
   "execution_count": 19,
   "id": "61add430",
   "metadata": {},
   "outputs": [],
   "source": [
    "xtest_transformed = Pca.transform(xtest)"
   ]
  },
  {
   "cell_type": "code",
   "execution_count": 20,
   "id": "8d642f79",
   "metadata": {},
   "outputs": [
    {
     "name": "stdout",
     "output_type": "stream",
     "text": [
      "(30, 2)\n"
     ]
    }
   ],
   "source": [
    "print(xtest_transformed.shape)"
   ]
  },
  {
   "cell_type": "code",
   "execution_count": 21,
   "id": "4af3a6fc",
   "metadata": {},
   "outputs": [],
   "source": [
    "log = LogisticRegression(penalty='l2')"
   ]
  },
  {
   "cell_type": "code",
   "execution_count": 22,
   "id": "6422d190",
   "metadata": {},
   "outputs": [
    {
     "data": {
      "text/plain": [
       "LogisticRegression()"
      ]
     },
     "execution_count": 22,
     "metadata": {},
     "output_type": "execute_result"
    }
   ],
   "source": [
    "### fitting the transformed data onto Logistic Regression model\n",
    "log.fit(xtrain_transformed,ytrain)"
   ]
  },
  {
   "cell_type": "code",
   "execution_count": 24,
   "id": "a36b0405",
   "metadata": {},
   "outputs": [],
   "source": [
    "## prediction:\n",
    "ypred = log.predict(xtest_transformed)"
   ]
  },
  {
   "cell_type": "code",
   "execution_count": 25,
   "id": "8e518c27",
   "metadata": {},
   "outputs": [],
   "source": [
    "Accuracy = accuracy_score(ypred,ytest)"
   ]
  },
  {
   "cell_type": "code",
   "execution_count": 26,
   "id": "776a9009",
   "metadata": {},
   "outputs": [
    {
     "name": "stdout",
     "output_type": "stream",
     "text": [
      "0.9666666666666667\n"
     ]
    }
   ],
   "source": [
    "### model accuracy :\n",
    "print(Accuracy)"
   ]
  },
  {
   "cell_type": "markdown",
   "id": "9e5a01de",
   "metadata": {},
   "source": [
    "# PCA on Digits data"
   ]
  },
  {
   "cell_type": "code",
   "execution_count": 33,
   "id": "7edb0456",
   "metadata": {},
   "outputs": [],
   "source": [
    "### Importing digits data\n",
    "from sklearn.datasets import load_digits"
   ]
  },
  {
   "cell_type": "code",
   "execution_count": 34,
   "id": "9cc9bbf1",
   "metadata": {},
   "outputs": [],
   "source": [
    "data =load_digits()"
   ]
  },
  {
   "cell_type": "code",
   "execution_count": 36,
   "id": "f3b7311a",
   "metadata": {},
   "outputs": [],
   "source": [
    "### creating x(predictor), y(target) variables..\n",
    "x = data.data\n",
    "y = data.target"
   ]
  },
  {
   "cell_type": "code",
   "execution_count": 54,
   "id": "d52a2a7b",
   "metadata": {},
   "outputs": [],
   "source": [
    "### Splitting the data into train and test sets\n",
    "xtrain,xtest,ytrain,ytest = train_test_split(x,y,test_size = 0.2,random_state = 1)"
   ]
  },
  {
   "cell_type": "code",
   "execution_count": 55,
   "id": "4869cd3f",
   "metadata": {},
   "outputs": [
    {
     "data": {
      "text/plain": [
       "(1437, 64)"
      ]
     },
     "execution_count": 55,
     "metadata": {},
     "output_type": "execute_result"
    }
   ],
   "source": [
    "xtrain.shape"
   ]
  },
  {
   "cell_type": "code",
   "execution_count": null,
   "id": "e1205ff2",
   "metadata": {},
   "outputs": [],
   "source": [
    "#### Importing LOGISTIC REGRESSION  from SKLEARN\n",
    "from sklearn.linear_model import LogisticRegression"
   ]
  },
  {
   "cell_type": "code",
   "execution_count": 44,
   "id": "58195f63",
   "metadata": {},
   "outputs": [],
   "source": [
    "##  Creating an instance of LOGISTIC REGRESSION \n",
    "log = LogisticRegression()"
   ]
  },
  {
   "cell_type": "code",
   "execution_count": 45,
   "id": "ab85fddc",
   "metadata": {},
   "outputs": [
    {
     "name": "stderr",
     "output_type": "stream",
     "text": [
      "C:\\Users\\imtiyaz\\anaconda3\\lib\\site-packages\\sklearn\\linear_model\\_logistic.py:763: ConvergenceWarning: lbfgs failed to converge (status=1):\n",
      "STOP: TOTAL NO. of ITERATIONS REACHED LIMIT.\n",
      "\n",
      "Increase the number of iterations (max_iter) or scale the data as shown in:\n",
      "    https://scikit-learn.org/stable/modules/preprocessing.html\n",
      "Please also refer to the documentation for alternative solver options:\n",
      "    https://scikit-learn.org/stable/modules/linear_model.html#logistic-regression\n",
      "  n_iter_i = _check_optimize_result(\n"
     ]
    },
    {
     "data": {
      "text/plain": [
       "LogisticRegression()"
      ]
     },
     "execution_count": 45,
     "metadata": {},
     "output_type": "execute_result"
    }
   ],
   "source": [
    "### fitting the data into the model\n",
    "log.fit(xtrain,ytrain)"
   ]
  },
  {
   "cell_type": "code",
   "execution_count": 46,
   "id": "76ea7067",
   "metadata": {},
   "outputs": [],
   "source": [
    "## Prediction:\n",
    "ypred = log.predict(xtest)"
   ]
  },
  {
   "cell_type": "code",
   "execution_count": 47,
   "id": "d8d41b22",
   "metadata": {},
   "outputs": [],
   "source": [
    "Accuracy = accuracy_score(ypred,ytest)"
   ]
  },
  {
   "cell_type": "code",
   "execution_count": 48,
   "id": "d1fbbbf1",
   "metadata": {},
   "outputs": [
    {
     "name": "stdout",
     "output_type": "stream",
     "text": [
      "0.9694444444444444\n"
     ]
    }
   ],
   "source": [
    "## Model accuracy:\n",
    "print(Accuracy)"
   ]
  },
  {
   "cell_type": "code",
   "execution_count": 49,
   "id": "19b2a9a7",
   "metadata": {},
   "outputs": [],
   "source": [
    "### Importing PCA from sklearn\n",
    "from sklearn.decomposition import PCA"
   ]
  },
  {
   "cell_type": "code",
   "execution_count": 50,
   "id": "bcbc3d52",
   "metadata": {},
   "outputs": [],
   "source": [
    "## creating an instance of PCA that explains 95% variability.\n",
    "Pca = PCA(n_components = 0.95)"
   ]
  },
  {
   "cell_type": "code",
   "execution_count": 51,
   "id": "4b613bcd",
   "metadata": {},
   "outputs": [
    {
     "data": {
      "text/plain": [
       "PCA(n_components=0.95)"
      ]
     },
     "execution_count": 51,
     "metadata": {},
     "output_type": "execute_result"
    }
   ],
   "source": [
    "## fitting data on PCA\n",
    "Pca.fit(xtrain)"
   ]
  },
  {
   "cell_type": "code",
   "execution_count": 52,
   "id": "79a380de",
   "metadata": {},
   "outputs": [],
   "source": [
    "### Decomposition:\n",
    "xtrain_transformed = Pca.transform(xtrain)"
   ]
  },
  {
   "cell_type": "code",
   "execution_count": 53,
   "id": "effc59bd",
   "metadata": {},
   "outputs": [
    {
     "name": "stdout",
     "output_type": "stream",
     "text": [
      "(1437, 28)\n"
     ]
    }
   ],
   "source": [
    "print(xtrain_transformed.shape)"
   ]
  },
  {
   "cell_type": "code",
   "execution_count": 56,
   "id": "b7bc8b65",
   "metadata": {},
   "outputs": [],
   "source": [
    "xtest_transformed = Pca.transform(xtest)"
   ]
  },
  {
   "cell_type": "code",
   "execution_count": 57,
   "id": "458dce3b",
   "metadata": {},
   "outputs": [
    {
     "name": "stdout",
     "output_type": "stream",
     "text": [
      "(360, 28)\n"
     ]
    }
   ],
   "source": [
    "print(xtest_transformed.shape)"
   ]
  },
  {
   "cell_type": "code",
   "execution_count": 58,
   "id": "e913ee09",
   "metadata": {},
   "outputs": [],
   "source": [
    "log = LogisticRegression(penalty='l2')"
   ]
  },
  {
   "cell_type": "code",
   "execution_count": 59,
   "id": "95b59ab5",
   "metadata": {},
   "outputs": [
    {
     "name": "stderr",
     "output_type": "stream",
     "text": [
      "C:\\Users\\imtiyaz\\anaconda3\\lib\\site-packages\\sklearn\\linear_model\\_logistic.py:763: ConvergenceWarning: lbfgs failed to converge (status=1):\n",
      "STOP: TOTAL NO. of ITERATIONS REACHED LIMIT.\n",
      "\n",
      "Increase the number of iterations (max_iter) or scale the data as shown in:\n",
      "    https://scikit-learn.org/stable/modules/preprocessing.html\n",
      "Please also refer to the documentation for alternative solver options:\n",
      "    https://scikit-learn.org/stable/modules/linear_model.html#logistic-regression\n",
      "  n_iter_i = _check_optimize_result(\n"
     ]
    },
    {
     "data": {
      "text/plain": [
       "LogisticRegression()"
      ]
     },
     "execution_count": 59,
     "metadata": {},
     "output_type": "execute_result"
    }
   ],
   "source": [
    "### fitting the transformed data onto Logistic Regression model\n",
    "log.fit(xtrain_transformed,ytrain)"
   ]
  },
  {
   "cell_type": "code",
   "execution_count": 60,
   "id": "34004715",
   "metadata": {},
   "outputs": [],
   "source": [
    "## prediction:\n",
    "ypred = log.predict(xtest_transformed)"
   ]
  },
  {
   "cell_type": "code",
   "execution_count": 61,
   "id": "2b011a6f",
   "metadata": {},
   "outputs": [],
   "source": [
    "Accuracy = accuracy_score(ypred,ytest)"
   ]
  },
  {
   "cell_type": "code",
   "execution_count": 62,
   "id": "511ed0dc",
   "metadata": {},
   "outputs": [
    {
     "name": "stdout",
     "output_type": "stream",
     "text": [
      "0.975\n"
     ]
    }
   ],
   "source": [
    "### model accuracy :\n",
    "print(Accuracy)"
   ]
  },
  {
   "cell_type": "code",
   "execution_count": null,
   "id": "735c416e",
   "metadata": {},
   "outputs": [],
   "source": []
  }
 ],
 "metadata": {
  "kernelspec": {
   "display_name": "Python 3",
   "language": "python",
   "name": "python3"
  },
  "language_info": {
   "codemirror_mode": {
    "name": "ipython",
    "version": 3
   },
   "file_extension": ".py",
   "mimetype": "text/x-python",
   "name": "python",
   "nbconvert_exporter": "python",
   "pygments_lexer": "ipython3",
   "version": "3.8.8"
  }
 },
 "nbformat": 4,
 "nbformat_minor": 5
}
